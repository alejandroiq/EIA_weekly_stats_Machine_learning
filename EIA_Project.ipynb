{
  "nbformat": 4,
  "nbformat_minor": 0,
  "metadata": {
    "colab": {
      "provenance": []
    },
    "kernelspec": {
      "name": "python3",
      "display_name": "Python 3"
    },
    "language_info": {
      "name": "python"
    }
  },
  "cells": [
    {
      "cell_type": "markdown",
      "source": [
        "# EIA Project\n",
        "\n",
        "Following a summary of the project. For more details, go to the report"
      ],
      "metadata": {
        "id": "HtCbPJbta5kg"
      }
    },
    {
      "cell_type": "markdown",
      "source": [
        "**About the EIA**\n",
        "\n",
        "The U.S. Energy Information Administration (EIA) is a government agency within the U.S. Department of Energy that collects, analyzes, and publishes independent and impartial energy information.\n",
        "Its mission is to promote sound policymaking, efficient markets, and public understanding of energy and its interaction with the economy and the environment.\n",
        "\n",
        "The EIA provides comprehensive data on petroleum, natural gas, coal, electricity, renewables, and nuclear energy with production, consumption, imports/exports, inventories, prices, regular reports such as the Weekly Petroleum Status Report (WPSR), Short-Term Energy Outlook, and Annual Energy Outlook.\n",
        "\n",
        "For oil markets, the Weekly Petroleum Status Report is a key source of market fundamentals, summarizing U.S. crude oil and petroleum product supply, demand, and inventory levels — data closely followed by traders, analysts, and policy makers for its potential to influence market sentiment and decision-making.\n",
        "\n",
        "Source: https://www.eia.gov/"
      ],
      "metadata": {
        "id": "b9Lrd42lbiEA"
      }
    },
    {
      "cell_type": "markdown",
      "source": [
        "**Business Problem**\n",
        "\n",
        "An energy trading desk wants to understand which petroleum market fundamentals have the most influence on WTI spot prices, so they can prioritize monitoring and risk assessments on the most impactful indicators.\n",
        "\n",
        "By identifying and quantifying these relationships, the desk can improve market awareness, refine hedging strategies, and enhance the efficiency of internal reporting."
      ],
      "metadata": {
        "id": "5PE5CrzHcN_-"
      }
    },
    {
      "cell_type": "markdown",
      "source": [
        "**Business Question**\n",
        "\n",
        "Which petroleum market fundamentals reported in the EIA’s Weekly Petroleum Status Report have the strongest historical influence on weekly average WTI spot prices?"
      ],
      "metadata": {
        "id": "XdAkqBNKc3IM"
      }
    },
    {
      "cell_type": "markdown",
      "source": [
        "**Stakeholders**\n",
        "\n",
        "-\tTrading desk: to allocate research resources toward the most relevant fundamentals.\n",
        "- Market analysts: to focus daily commentary on key drivers.\n",
        "- Risk management team: to incorporate key fundamentals into stress tests and VaR scenarios.\n",
        "- Executives: to understand high-level market dynamics without deep technical knowledge.\n"
      ],
      "metadata": {
        "id": "_wY0M3lFcrun"
      }
    },
    {
      "cell_type": "markdown",
      "source": [
        "**Business Objectives**\n",
        "\n",
        "1.\tBuild a machine learning model to explain weekly average WTI spot price using petroleum market fundamentals from the EIA’s Weekly Petroleum Status Report (WPSR).\n",
        "2.\tRank the importance of each feature in explaining historical price variation.\n",
        "3.\tDeliver actionable recommendations on which fundamentals to track most closely for market monitoring.\n"
      ],
      "metadata": {
        "id": "CJ7x017Eddwu"
      }
    },
    {
      "cell_type": "markdown",
      "source": [
        "**Metrics**\n",
        "\n",
        "Technical:\n",
        "-\tR² and MAE for in-sample model fit (to confirm model quality).\n",
        "-\tFeature importance rankings and interpretability metrics.\n",
        "\n",
        "Business:\n",
        "\n",
        "-\tClarity of insights for non-technical stakeholders.\n",
        "-\tAbility to produce a prioritized driver list that matches market intuition.\n"
      ],
      "metadata": {
        "id": "1HVgfjEud0Vt"
      }
    },
    {
      "cell_type": "markdown",
      "source": [
        "**Type of Modeling**\n",
        "\n",
        "•\tRegression (supervised learning) with emphasis on explanatory power.\n",
        "\n",
        "•\tPotential algorithms: Linear Regression, Lasso/Ridge, Random Forest Regressor, XGBoost Regressor.\n",
        "\n",
        "•\tFocus on interpretability alongside model fit quality (R², MAE)."
      ],
      "metadata": {
        "id": "2YRDrjOWdQBE"
      }
    },
    {
      "cell_type": "markdown",
      "source": [
        "**Dataset**\n",
        "\n",
        "Source: U.S. Energy Information Administration (EIA) — Weekly Petroleum Status Report (WPSR) and related datasets.\n",
        "\n",
        "Frequency: Weekly.\n",
        "\n",
        "Period: ~30 years (if available) for robust statistical learning.\n",
        "\n",
        "Target variable: EIA Weekly Average WTI spot price (Cushing, OK).\n",
        "\n",
        "Features:\n",
        "\n",
        "-\tU.S. crude oil stocks (ex-SPR)\n",
        "-\tTotal motor gasoline stocks\n",
        "-\tDistillate fuel oil stocks\n",
        "-\tTotal product supplied\n",
        "-\tRefinery capacity utilization (%)\n",
        "-\tCrude oil production (U.S.)\n",
        "-\tNet imports/exports of crude and products\n",
        "-\tSeasonal indicator (week of year)"
      ],
      "metadata": {
        "id": "AtPSbLZuqlxf"
      }
    },
    {
      "cell_type": "markdown",
      "source": [
        "**Evaluation Plan**\n",
        "\n",
        "1.\tEDA to explore relationships between fundamentals and price.\n",
        "2.\tModel fitting with cross-validation for robustness.\n",
        "3.\tFeature importance analysis.\n",
        "4.\tBusiness interpretation — map statistical importance to actionable insights."
      ],
      "metadata": {
        "id": "qOVOZxCiqJL6"
      }
    },
    {
      "cell_type": "markdown",
      "source": [
        "# Imports + Config"
      ],
      "metadata": {
        "id": "9pqv-CCRrCsA"
      }
    },
    {
      "cell_type": "code",
      "source": [
        "import os, sys, json, textwrap, getpass, random\n",
        "from dateutil import parser as dtparser\n",
        "import time\n",
        "import requests\n",
        "import pandas as pd\n",
        "from typing import Dict, Tuple"
      ],
      "metadata": {
        "id": "QppBzIiKmHMa"
      },
      "execution_count": null,
      "outputs": []
    },
    {
      "cell_type": "markdown",
      "source": [
        "We use a hidden prompt so the key is kept out of the notebook and Git history. This aligns with good security practices and the EIA TOS."
      ],
      "metadata": {
        "id": "eERYiRMRWrPh"
      }
    },
    {
      "cell_type": "code",
      "source": [
        "# Upload the API key\n",
        "os.environ[\"EIA_API_KEY\"] = getpass.getpass(\"Paste your EIA API key (hidden): \")"
      ],
      "metadata": {
        "colab": {
          "base_uri": "https://localhost:8080/"
        },
        "id": "oZfP5XBl4ahm",
        "outputId": "e645d425-4175-47a8-8009-71882f95c3d9"
      },
      "execution_count": null,
      "outputs": [
        {
          "name": "stdout",
          "output_type": "stream",
          "text": [
            "Paste your EIA API key (hidden): ··········\n"
          ]
        }
      ]
    },
    {
      "cell_type": "markdown",
      "source": [
        "We save raw files to a consistent folder structure and predefine a rolling 20-year cutoff so later modeling can focus on a modern regime while keeping reproducibility."
      ],
      "metadata": {
        "id": "EX6t0jsQWvxp"
      }
    },
    {
      "cell_type": "code",
      "source": [
        "# Verify the key is loaded\n",
        "API_KEY = os.environ.get(\"EIA_API_KEY\")\n",
        "assert API_KEY and len(API_KEY) > 20, \"API key not set. Re-run Step 2 and paste your key.\"\n",
        "print(\"API key loaded\")"
      ],
      "metadata": {
        "colab": {
          "base_uri": "https://localhost:8080/"
        },
        "id": "PWFpkffZBJfW",
        "outputId": "7b9bc994-94b5-436d-e122-3d7abd490a56"
      },
      "execution_count": null,
      "outputs": [
        {
          "output_type": "stream",
          "name": "stdout",
          "text": [
            "API key loaded\n"
          ]
        }
      ]
    },
    {
      "cell_type": "code",
      "source": [
        "# Set output folders\n",
        "BASE_DIR = \"/content\"               # Colab working dir\n",
        "RAW_DIR  = f\"{BASE_DIR}/data/raw\"   # where we'll save raw CSVs\n",
        "os.makedirs(RAW_DIR, exist_ok=True)\n",
        "\n",
        "# Rolling 20-year cutoff (dynamic)\n",
        "CUTOFF_20Y = pd.Timestamp.today().normalize() - pd.DateOffset(years=20)\n",
        "print(\"Saving raw files to:\", RAW_DIR)\n",
        "print(\"20-year cutoff:\", CUTOFF_20Y.date())"
      ],
      "metadata": {
        "colab": {
          "base_uri": "https://localhost:8080/"
        },
        "id": "56NFKvhTBOOz",
        "outputId": "773112ed-2987-4709-f943-25a7e7b9b96f"
      },
      "execution_count": null,
      "outputs": [
        {
          "output_type": "stream",
          "name": "stdout",
          "text": [
            "Saving raw files to: /content/data/raw\n",
            "20-year cutoff: 2005-08-12\n"
          ]
        }
      ]
    },
    {
      "cell_type": "markdown",
      "source": [
        "A single registry (dictionary) maps human-readable names to EIA series IDs. Adding new data later is as simple as adding one line here."
      ],
      "metadata": {
        "id": "HUXG9tv5W6vN"
      }
    },
    {
      "cell_type": "code",
      "source": [
        "# v2 endpoint that serves legacy series IDs (we're not using legacy API)\n",
        "EIA_SERIES_URL = \"https://api.eia.gov/v2/seriesid/{series_id}?api_key={api_key}\"\n",
        "\n",
        "# Friendly names → EIA series IDs\n",
        "SERIES = {\n",
        "    # Target (weekly average WTI, $/bbl)\n",
        "    \"WTI_weekly_avg_usd_per_bbl\": \"PET.RWTC.W\",\n",
        "\n",
        "    # Core WPSR fundamentals (weekly)\n",
        "    \"crude_stocks_excl_SPR_kbbl\": \"WCESTUS1\",\n",
        "    \"gasoline_stocks_kbbl\":       \"WGTSTUS1\",\n",
        "    \"distillate_stocks_kbbl\":     \"WDISTUS1\",\n",
        "    \"refinery_utilization_pct\":   \"WPULEUS3\",\n",
        "    \"crude_field_prod_kbd\":       \"WCRFPUS2\",\n",
        "    \"net_imports_crude_prod_kbd\": \"WTTNTUS2\",\n",
        "    \"total_products_supplied_kbd\":\"WRPUPUS2\",\n",
        "}\n",
        "\n",
        "print(f\"{len(SERIES)} series configured:\\n- \" + \"\\n- \".join(SERIES.keys()))"
      ],
      "metadata": {
        "colab": {
          "base_uri": "https://localhost:8080/"
        },
        "id": "ePrkG9SyBR-V",
        "outputId": "9a37ecc9-df26-4787-e4b0-1a022e5e5e6b"
      },
      "execution_count": null,
      "outputs": [
        {
          "output_type": "stream",
          "name": "stdout",
          "text": [
            "8 series configured:\n",
            "- WTI_weekly_avg_usd_per_bbl\n",
            "- crude_stocks_excl_SPR_kbbl\n",
            "- gasoline_stocks_kbbl\n",
            "- distillate_stocks_kbbl\n",
            "- refinery_utilization_pct\n",
            "- crude_field_prod_kbd\n",
            "- net_imports_crude_prod_kbd\n",
            "- total_products_supplied_kbd\n"
          ]
        }
      ]
    },
    {
      "cell_type": "markdown",
      "source": [
        "**Helper function to fetch a single series**\n",
        "\n",
        "The EIA API provides many different series IDs (e.g., WTI prices, crude stocks, gasoline stocks). Rather than writing repetitive request code for each series, the fetch_series() function encapsulates the logic in a reusable way. This allows us to call it repeatedly with different series IDs and automatically receive clean, pre-formatted pandas DataFrames.\n",
        "\n",
        "This design is modular, maintainable, and easy to debug: if the API endpoint or data format changes, updates need to be made in only one place. The function also incorporates retry logic and error handling to ensure reliability when interacting with the EIA API."
      ],
      "metadata": {
        "id": "HeZHZqGnCyjr"
      }
    },
    {
      "cell_type": "code",
      "source": [
        "def fetch_series(series_id: str, api_key: str, retries: int = 8, pause: float = 1.0) -> pd.DataFrame:\n",
        "    \"\"\"\n",
        "    Fetch one EIA series via v2 /seriesid (no legacy fallback).\n",
        "    Retries on transient errors (429/5xx) with exponential backoff.\n",
        "    Returns ['period','value','series_id'] sorted ascending.\n",
        "    \"\"\"\n",
        "    last_ex = None\n",
        "    for attempt in range(1, retries + 1):\n",
        "        try:\n",
        "            url = EIA_SERIES_URL.format(series_id=series_id, api_key=api_key)\n",
        "            r = requests.get(url, timeout=30)\n",
        "            status = r.status_code\n",
        "            if status in (429, 500, 502, 503, 504):\n",
        "                raise requests.HTTPError(f\"HTTP {status}\")\n",
        "            r.raise_for_status()\n",
        "\n",
        "            js = r.json()\n",
        "            rows = js[\"response\"][\"data\"]\n",
        "            if not rows:\n",
        "                raise ValueError(f\"No data returned for {series_id}\")\n",
        "\n",
        "            df = pd.DataFrame(rows)[[\"period\",\"value\"]].copy()\n",
        "            df[\"period\"] = pd.to_datetime(df[\"period\"])\n",
        "            df[\"series_id\"] = series_id\n",
        "            return df.sort_values(\"period\").reset_index(drop=True)\n",
        "\n",
        "        except Exception as ex:\n",
        "            last_ex = ex\n",
        "            sleep_s = (pause * (2 ** (attempt - 1))) + random.uniform(0, 0.5)\n",
        "            print(f\"[{series_id}] attempt {attempt}/{retries} failed: {ex} → retrying in {sleep_s:.1f}s\")\n",
        "            time.sleep(min(sleep_s, 60.0))\n",
        "\n",
        "    raise RuntimeError(f\"Failed to fetch {series_id} after {retries} attempts; last: {last_ex}\")"
      ],
      "metadata": {
        "id": "5vUxkMxECPHF"
      },
      "execution_count": null,
      "outputs": []
    },
    {
      "cell_type": "markdown",
      "source": [
        "**Batch pull helper: tidy + wide outputs**\n",
        "\n",
        "Report note: We pull all series, save one CSV per series (traceability), then pivot into a single wide table (model-ready) with one row per week and one column per variable."
      ],
      "metadata": {
        "id": "bf2GIhonEULI"
      }
    },
    {
      "cell_type": "code",
      "source": [
        "def pull_series_map(series_map: Dict[str, str], api_key: str, save_dir: str) -> Tuple[pd.DataFrame, pd.DataFrame]:\n",
        "    \"\"\"\n",
        "    Pulls all series, saving per-series CSVs; uses cache if file exists; skips failures.\n",
        "    Returns (tidy_df, wide_df).\n",
        "    \"\"\"\n",
        "    all_tidy = []\n",
        "    for nice_name, sid in series_map.items():\n",
        "        out_path = os.path.join(save_dir, f\"{nice_name}.csv\")\n",
        "        try:\n",
        "            if os.path.exists(out_path):\n",
        "                df = pd.read_csv(out_path, parse_dates=[\"period\"])\n",
        "                print(f\"Loaded cached {nice_name} ← {out_path} ({len(df)} rows)\")\n",
        "            else:\n",
        "                df = fetch_series(sid, api_key)\n",
        "                df.to_csv(out_path, index=False)\n",
        "                print(f\"Saved {nice_name} → {out_path} ({len(df)} rows)\")\n",
        "            df[\"nice_name\"] = nice_name\n",
        "            all_tidy.append(df)\n",
        "        except Exception as ex:\n",
        "            print(f\"SKIP: {nice_name} due to error: {ex}\")\n",
        "            # move on; you can re-run later to fill missing series\n",
        "            continue\n",
        "\n",
        "    tidy = pd.concat(all_tidy, ignore_index=True)\n",
        "    wide  = tidy.pivot_table(index=\"period\", columns=\"nice_name\", values=\"value\", aggfunc=\"first\").sort_index()\n",
        "    return tidy, wide"
      ],
      "metadata": {
        "id": "4ujwhGSGC0DL"
      },
      "execution_count": null,
      "outputs": []
    },
    {
      "cell_type": "markdown",
      "source": [
        "**Run the pull, save full + 20-year combined files**\n",
        "\n",
        "Report note: We keep a full combined file and also a 20-year subset for the modeling scope. This supports both reproducibility and sensitivity analysis later."
      ],
      "metadata": {
        "id": "BPIWzIblEsMj"
      }
    },
    {
      "cell_type": "code",
      "source": [
        "tidy, wide = pull_series_map(SERIES, API_KEY, RAW_DIR)\n",
        "print(\"Combined shape (full):\", wide.shape)\n",
        "display(wide.tail(3))"
      ],
      "metadata": {
        "colab": {
          "base_uri": "https://localhost:8080/",
          "height": 1000
        },
        "id": "--NEpCDFXM58",
        "outputId": "66599c37-d8ae-4931-ed20-4d63963fb2e6"
      },
      "execution_count": null,
      "outputs": [
        {
          "output_type": "stream",
          "name": "stdout",
          "text": [
            "Loaded cached WTI_weekly_avg_usd_per_bbl ← /content/data/raw/WTI_weekly_avg_usd_per_bbl.csv (2066 rows)\n",
            "[WCESTUS1] attempt 1/8 failed: HTTP 500 → retrying in 1.5s\n",
            "[WCESTUS1] attempt 2/8 failed: HTTP 500 → retrying in 2.0s\n",
            "[WCESTUS1] attempt 3/8 failed: HTTP 500 → retrying in 4.4s\n",
            "[WCESTUS1] attempt 4/8 failed: HTTP 500 → retrying in 8.4s\n",
            "[WCESTUS1] attempt 5/8 failed: HTTP 500 → retrying in 16.3s\n",
            "[WCESTUS1] attempt 6/8 failed: HTTP 500 → retrying in 32.2s\n",
            "[WCESTUS1] attempt 7/8 failed: HTTP 500 → retrying in 64.3s\n",
            "[WCESTUS1] attempt 8/8 failed: HTTP 500 → retrying in 128.0s\n",
            "SKIP: crude_stocks_excl_SPR_kbbl due to error: Failed to fetch WCESTUS1 after 8 attempts; last: HTTP 500\n",
            "[WGTSTUS1] attempt 1/8 failed: HTTP 500 → retrying in 1.4s\n",
            "[WGTSTUS1] attempt 2/8 failed: HTTP 500 → retrying in 2.4s\n",
            "[WGTSTUS1] attempt 3/8 failed: HTTP 500 → retrying in 4.3s\n",
            "[WGTSTUS1] attempt 4/8 failed: HTTP 500 → retrying in 8.1s\n",
            "[WGTSTUS1] attempt 5/8 failed: HTTP 500 → retrying in 16.4s\n",
            "[WGTSTUS1] attempt 6/8 failed: HTTP 500 → retrying in 32.3s\n",
            "[WGTSTUS1] attempt 7/8 failed: HTTP 500 → retrying in 64.3s\n",
            "[WGTSTUS1] attempt 8/8 failed: HTTP 500 → retrying in 128.2s\n",
            "SKIP: gasoline_stocks_kbbl due to error: Failed to fetch WGTSTUS1 after 8 attempts; last: HTTP 500\n",
            "[WDISTUS1] attempt 1/8 failed: HTTP 500 → retrying in 1.2s\n",
            "[WDISTUS1] attempt 2/8 failed: HTTP 500 → retrying in 2.3s\n",
            "[WDISTUS1] attempt 3/8 failed: HTTP 500 → retrying in 4.3s\n",
            "[WDISTUS1] attempt 4/8 failed: HTTP 500 → retrying in 8.4s\n",
            "[WDISTUS1] attempt 5/8 failed: HTTP 500 → retrying in 16.4s\n",
            "[WDISTUS1] attempt 6/8 failed: HTTP 500 → retrying in 32.2s\n",
            "[WDISTUS1] attempt 7/8 failed: HTTP 500 → retrying in 64.0s\n",
            "[WDISTUS1] attempt 8/8 failed: HTTP 500 → retrying in 128.3s\n",
            "SKIP: distillate_stocks_kbbl due to error: Failed to fetch WDISTUS1 after 8 attempts; last: HTTP 500\n",
            "[WPULEUS3] attempt 1/8 failed: HTTP 500 → retrying in 1.1s\n",
            "[WPULEUS3] attempt 2/8 failed: HTTP 500 → retrying in 2.5s\n",
            "[WPULEUS3] attempt 3/8 failed: HTTP 500 → retrying in 4.1s\n",
            "[WPULEUS3] attempt 4/8 failed: HTTP 500 → retrying in 8.3s\n",
            "[WPULEUS3] attempt 5/8 failed: HTTP 500 → retrying in 16.3s\n",
            "[WPULEUS3] attempt 6/8 failed: HTTP 500 → retrying in 32.3s\n",
            "[WPULEUS3] attempt 7/8 failed: HTTP 500 → retrying in 64.2s\n",
            "[WPULEUS3] attempt 8/8 failed: HTTP 500 → retrying in 128.4s\n",
            "SKIP: refinery_utilization_pct due to error: Failed to fetch WPULEUS3 after 8 attempts; last: HTTP 500\n",
            "[WCRFPUS2] attempt 1/8 failed: HTTP 500 → retrying in 1.4s\n",
            "[WCRFPUS2] attempt 2/8 failed: HTTP 500 → retrying in 2.2s\n",
            "[WCRFPUS2] attempt 3/8 failed: HTTP 500 → retrying in 4.4s\n",
            "[WCRFPUS2] attempt 4/8 failed: HTTP 500 → retrying in 8.3s\n",
            "[WCRFPUS2] attempt 5/8 failed: HTTP 500 → retrying in 16.2s\n",
            "[WCRFPUS2] attempt 6/8 failed: HTTP 500 → retrying in 32.4s\n",
            "[WCRFPUS2] attempt 7/8 failed: HTTP 500 → retrying in 64.2s\n",
            "[WCRFPUS2] attempt 8/8 failed: HTTP 500 → retrying in 128.3s\n",
            "SKIP: crude_field_prod_kbd due to error: Failed to fetch WCRFPUS2 after 8 attempts; last: HTTP 500\n",
            "[WTTNTUS2] attempt 1/8 failed: HTTP 500 → retrying in 1.2s\n",
            "[WTTNTUS2] attempt 2/8 failed: HTTP 500 → retrying in 2.1s\n",
            "[WTTNTUS2] attempt 3/8 failed: HTTP 500 → retrying in 4.3s\n",
            "[WTTNTUS2] attempt 4/8 failed: HTTP 500 → retrying in 8.3s\n",
            "[WTTNTUS2] attempt 5/8 failed: HTTP 500 → retrying in 16.1s\n",
            "[WTTNTUS2] attempt 6/8 failed: HTTP 500 → retrying in 32.5s\n",
            "[WTTNTUS2] attempt 7/8 failed: HTTP 500 → retrying in 64.5s\n",
            "[WTTNTUS2] attempt 8/8 failed: HTTP 500 → retrying in 128.4s\n",
            "SKIP: net_imports_crude_prod_kbd due to error: Failed to fetch WTTNTUS2 after 8 attempts; last: HTTP 500\n",
            "[WRPUPUS2] attempt 1/8 failed: HTTP 500 → retrying in 1.1s\n",
            "[WRPUPUS2] attempt 2/8 failed: HTTP 500 → retrying in 2.0s\n",
            "[WRPUPUS2] attempt 3/8 failed: HTTP 500 → retrying in 4.2s\n",
            "[WRPUPUS2] attempt 4/8 failed: HTTP 500 → retrying in 8.4s\n",
            "[WRPUPUS2] attempt 5/8 failed: HTTP 500 → retrying in 16.4s\n",
            "[WRPUPUS2] attempt 6/8 failed: HTTP 500 → retrying in 32.1s\n",
            "[WRPUPUS2] attempt 7/8 failed: HTTP 500 → retrying in 64.3s\n",
            "[WRPUPUS2] attempt 8/8 failed: HTTP 500 → retrying in 128.4s\n",
            "SKIP: total_products_supplied_kbd due to error: Failed to fetch WRPUPUS2 after 8 attempts; last: HTTP 500\n",
            "Combined shape (full): (2066, 1)\n"
          ]
        },
        {
          "output_type": "display_data",
          "data": {
            "text/plain": [
              "nice_name   WTI_weekly_avg_usd_per_bbl\n",
              "period                                \n",
              "2025-07-18                       68.07\n",
              "2025-07-25                       67.11\n",
              "2025-08-01                       69.58"
            ],
            "text/html": [
              "\n",
              "  <div id=\"df-c5bb4d5a-bfe8-4cdd-9cdf-440502dd2007\" class=\"colab-df-container\">\n",
              "    <div>\n",
              "<style scoped>\n",
              "    .dataframe tbody tr th:only-of-type {\n",
              "        vertical-align: middle;\n",
              "    }\n",
              "\n",
              "    .dataframe tbody tr th {\n",
              "        vertical-align: top;\n",
              "    }\n",
              "\n",
              "    .dataframe thead th {\n",
              "        text-align: right;\n",
              "    }\n",
              "</style>\n",
              "<table border=\"1\" class=\"dataframe\">\n",
              "  <thead>\n",
              "    <tr style=\"text-align: right;\">\n",
              "      <th>nice_name</th>\n",
              "      <th>WTI_weekly_avg_usd_per_bbl</th>\n",
              "    </tr>\n",
              "    <tr>\n",
              "      <th>period</th>\n",
              "      <th></th>\n",
              "    </tr>\n",
              "  </thead>\n",
              "  <tbody>\n",
              "    <tr>\n",
              "      <th>2025-07-18</th>\n",
              "      <td>68.07</td>\n",
              "    </tr>\n",
              "    <tr>\n",
              "      <th>2025-07-25</th>\n",
              "      <td>67.11</td>\n",
              "    </tr>\n",
              "    <tr>\n",
              "      <th>2025-08-01</th>\n",
              "      <td>69.58</td>\n",
              "    </tr>\n",
              "  </tbody>\n",
              "</table>\n",
              "</div>\n",
              "    <div class=\"colab-df-buttons\">\n",
              "\n",
              "  <div class=\"colab-df-container\">\n",
              "    <button class=\"colab-df-convert\" onclick=\"convertToInteractive('df-c5bb4d5a-bfe8-4cdd-9cdf-440502dd2007')\"\n",
              "            title=\"Convert this dataframe to an interactive table.\"\n",
              "            style=\"display:none;\">\n",
              "\n",
              "  <svg xmlns=\"http://www.w3.org/2000/svg\" height=\"24px\" viewBox=\"0 -960 960 960\">\n",
              "    <path d=\"M120-120v-720h720v720H120Zm60-500h600v-160H180v160Zm220 220h160v-160H400v160Zm0 220h160v-160H400v160ZM180-400h160v-160H180v160Zm440 0h160v-160H620v160ZM180-180h160v-160H180v160Zm440 0h160v-160H620v160Z\"/>\n",
              "  </svg>\n",
              "    </button>\n",
              "\n",
              "  <style>\n",
              "    .colab-df-container {\n",
              "      display:flex;\n",
              "      gap: 12px;\n",
              "    }\n",
              "\n",
              "    .colab-df-convert {\n",
              "      background-color: #E8F0FE;\n",
              "      border: none;\n",
              "      border-radius: 50%;\n",
              "      cursor: pointer;\n",
              "      display: none;\n",
              "      fill: #1967D2;\n",
              "      height: 32px;\n",
              "      padding: 0 0 0 0;\n",
              "      width: 32px;\n",
              "    }\n",
              "\n",
              "    .colab-df-convert:hover {\n",
              "      background-color: #E2EBFA;\n",
              "      box-shadow: 0px 1px 2px rgba(60, 64, 67, 0.3), 0px 1px 3px 1px rgba(60, 64, 67, 0.15);\n",
              "      fill: #174EA6;\n",
              "    }\n",
              "\n",
              "    .colab-df-buttons div {\n",
              "      margin-bottom: 4px;\n",
              "    }\n",
              "\n",
              "    [theme=dark] .colab-df-convert {\n",
              "      background-color: #3B4455;\n",
              "      fill: #D2E3FC;\n",
              "    }\n",
              "\n",
              "    [theme=dark] .colab-df-convert:hover {\n",
              "      background-color: #434B5C;\n",
              "      box-shadow: 0px 1px 3px 1px rgba(0, 0, 0, 0.15);\n",
              "      filter: drop-shadow(0px 1px 2px rgba(0, 0, 0, 0.3));\n",
              "      fill: #FFFFFF;\n",
              "    }\n",
              "  </style>\n",
              "\n",
              "    <script>\n",
              "      const buttonEl =\n",
              "        document.querySelector('#df-c5bb4d5a-bfe8-4cdd-9cdf-440502dd2007 button.colab-df-convert');\n",
              "      buttonEl.style.display =\n",
              "        google.colab.kernel.accessAllowed ? 'block' : 'none';\n",
              "\n",
              "      async function convertToInteractive(key) {\n",
              "        const element = document.querySelector('#df-c5bb4d5a-bfe8-4cdd-9cdf-440502dd2007');\n",
              "        const dataTable =\n",
              "          await google.colab.kernel.invokeFunction('convertToInteractive',\n",
              "                                                    [key], {});\n",
              "        if (!dataTable) return;\n",
              "\n",
              "        const docLinkHtml = 'Like what you see? Visit the ' +\n",
              "          '<a target=\"_blank\" href=https://colab.research.google.com/notebooks/data_table.ipynb>data table notebook</a>'\n",
              "          + ' to learn more about interactive tables.';\n",
              "        element.innerHTML = '';\n",
              "        dataTable['output_type'] = 'display_data';\n",
              "        await google.colab.output.renderOutput(dataTable, element);\n",
              "        const docLink = document.createElement('div');\n",
              "        docLink.innerHTML = docLinkHtml;\n",
              "        element.appendChild(docLink);\n",
              "      }\n",
              "    </script>\n",
              "  </div>\n",
              "\n",
              "\n",
              "    <div id=\"df-3fa7a673-63fe-431e-99c6-6f1ab05448ce\">\n",
              "      <button class=\"colab-df-quickchart\" onclick=\"quickchart('df-3fa7a673-63fe-431e-99c6-6f1ab05448ce')\"\n",
              "                title=\"Suggest charts\"\n",
              "                style=\"display:none;\">\n",
              "\n",
              "<svg xmlns=\"http://www.w3.org/2000/svg\" height=\"24px\"viewBox=\"0 0 24 24\"\n",
              "     width=\"24px\">\n",
              "    <g>\n",
              "        <path d=\"M19 3H5c-1.1 0-2 .9-2 2v14c0 1.1.9 2 2 2h14c1.1 0 2-.9 2-2V5c0-1.1-.9-2-2-2zM9 17H7v-7h2v7zm4 0h-2V7h2v10zm4 0h-2v-4h2v4z\"/>\n",
              "    </g>\n",
              "</svg>\n",
              "      </button>\n",
              "\n",
              "<style>\n",
              "  .colab-df-quickchart {\n",
              "      --bg-color: #E8F0FE;\n",
              "      --fill-color: #1967D2;\n",
              "      --hover-bg-color: #E2EBFA;\n",
              "      --hover-fill-color: #174EA6;\n",
              "      --disabled-fill-color: #AAA;\n",
              "      --disabled-bg-color: #DDD;\n",
              "  }\n",
              "\n",
              "  [theme=dark] .colab-df-quickchart {\n",
              "      --bg-color: #3B4455;\n",
              "      --fill-color: #D2E3FC;\n",
              "      --hover-bg-color: #434B5C;\n",
              "      --hover-fill-color: #FFFFFF;\n",
              "      --disabled-bg-color: #3B4455;\n",
              "      --disabled-fill-color: #666;\n",
              "  }\n",
              "\n",
              "  .colab-df-quickchart {\n",
              "    background-color: var(--bg-color);\n",
              "    border: none;\n",
              "    border-radius: 50%;\n",
              "    cursor: pointer;\n",
              "    display: none;\n",
              "    fill: var(--fill-color);\n",
              "    height: 32px;\n",
              "    padding: 0;\n",
              "    width: 32px;\n",
              "  }\n",
              "\n",
              "  .colab-df-quickchart:hover {\n",
              "    background-color: var(--hover-bg-color);\n",
              "    box-shadow: 0 1px 2px rgba(60, 64, 67, 0.3), 0 1px 3px 1px rgba(60, 64, 67, 0.15);\n",
              "    fill: var(--button-hover-fill-color);\n",
              "  }\n",
              "\n",
              "  .colab-df-quickchart-complete:disabled,\n",
              "  .colab-df-quickchart-complete:disabled:hover {\n",
              "    background-color: var(--disabled-bg-color);\n",
              "    fill: var(--disabled-fill-color);\n",
              "    box-shadow: none;\n",
              "  }\n",
              "\n",
              "  .colab-df-spinner {\n",
              "    border: 2px solid var(--fill-color);\n",
              "    border-color: transparent;\n",
              "    border-bottom-color: var(--fill-color);\n",
              "    animation:\n",
              "      spin 1s steps(1) infinite;\n",
              "  }\n",
              "\n",
              "  @keyframes spin {\n",
              "    0% {\n",
              "      border-color: transparent;\n",
              "      border-bottom-color: var(--fill-color);\n",
              "      border-left-color: var(--fill-color);\n",
              "    }\n",
              "    20% {\n",
              "      border-color: transparent;\n",
              "      border-left-color: var(--fill-color);\n",
              "      border-top-color: var(--fill-color);\n",
              "    }\n",
              "    30% {\n",
              "      border-color: transparent;\n",
              "      border-left-color: var(--fill-color);\n",
              "      border-top-color: var(--fill-color);\n",
              "      border-right-color: var(--fill-color);\n",
              "    }\n",
              "    40% {\n",
              "      border-color: transparent;\n",
              "      border-right-color: var(--fill-color);\n",
              "      border-top-color: var(--fill-color);\n",
              "    }\n",
              "    60% {\n",
              "      border-color: transparent;\n",
              "      border-right-color: var(--fill-color);\n",
              "    }\n",
              "    80% {\n",
              "      border-color: transparent;\n",
              "      border-right-color: var(--fill-color);\n",
              "      border-bottom-color: var(--fill-color);\n",
              "    }\n",
              "    90% {\n",
              "      border-color: transparent;\n",
              "      border-bottom-color: var(--fill-color);\n",
              "    }\n",
              "  }\n",
              "</style>\n",
              "\n",
              "      <script>\n",
              "        async function quickchart(key) {\n",
              "          const quickchartButtonEl =\n",
              "            document.querySelector('#' + key + ' button');\n",
              "          quickchartButtonEl.disabled = true;  // To prevent multiple clicks.\n",
              "          quickchartButtonEl.classList.add('colab-df-spinner');\n",
              "          try {\n",
              "            const charts = await google.colab.kernel.invokeFunction(\n",
              "                'suggestCharts', [key], {});\n",
              "          } catch (error) {\n",
              "            console.error('Error during call to suggestCharts:', error);\n",
              "          }\n",
              "          quickchartButtonEl.classList.remove('colab-df-spinner');\n",
              "          quickchartButtonEl.classList.add('colab-df-quickchart-complete');\n",
              "        }\n",
              "        (() => {\n",
              "          let quickchartButtonEl =\n",
              "            document.querySelector('#df-3fa7a673-63fe-431e-99c6-6f1ab05448ce button');\n",
              "          quickchartButtonEl.style.display =\n",
              "            google.colab.kernel.accessAllowed ? 'block' : 'none';\n",
              "        })();\n",
              "      </script>\n",
              "    </div>\n",
              "\n",
              "    </div>\n",
              "  </div>\n"
            ],
            "application/vnd.google.colaboratory.intrinsic+json": {
              "type": "dataframe",
              "summary": "{\n  \"name\": \"display(wide\",\n  \"rows\": 3,\n  \"fields\": [\n    {\n      \"column\": \"period\",\n      \"properties\": {\n        \"dtype\": \"date\",\n        \"min\": \"2025-07-18 00:00:00\",\n        \"max\": \"2025-08-01 00:00:00\",\n        \"num_unique_values\": 3,\n        \"samples\": [\n          \"2025-07-18 00:00:00\",\n          \"2025-07-25 00:00:00\",\n          \"2025-08-01 00:00:00\"\n        ],\n        \"semantic_type\": \"\",\n        \"description\": \"\"\n      }\n    },\n    {\n      \"column\": \"WTI_weekly_avg_usd_per_bbl\",\n      \"properties\": {\n        \"dtype\": \"number\",\n        \"std\": 1.2451639784917217,\n        \"min\": 67.11,\n        \"max\": 69.58,\n        \"num_unique_values\": 3,\n        \"samples\": [\n          68.07,\n          67.11,\n          69.58\n        ],\n        \"semantic_type\": \"\",\n        \"description\": \"\"\n      }\n    }\n  ]\n}"
            }
          },
          "metadata": {}
        }
      ]
    },
    {
      "cell_type": "code",
      "source": [],
      "metadata": {
        "id": "cbyWnheeXO-9"
      },
      "execution_count": null,
      "outputs": []
    }
  ]
}